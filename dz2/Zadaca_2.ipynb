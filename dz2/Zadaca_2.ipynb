{
 "cells": [
  {
   "cell_type": "markdown",
   "id": "75abe47a",
   "metadata": {},
   "source": [
    "<h1><center>Algoritmi u teoriji brojeva</center></h1>\n",
    "<h1><center>Zadaća 2</center></h1>\n",
    "<h3><center>Mihael Petrinjak</center></h3>"
   ]
  },
  {
   "cell_type": "markdown",
   "id": "208be9dd",
   "metadata": {},
   "source": [
    "## Zadatak 1."
   ]
  },
  {
   "cell_type": "code",
   "execution_count": 34,
   "id": "3f5c9cea",
   "metadata": {},
   "outputs": [],
   "source": [
    "R = 1000\n",
    "m = 279"
   ]
  },
  {
   "cell_type": "markdown",
   "id": "e3a1d5f0",
   "metadata": {},
   "source": [
    "Pronađimo $m' :=$ `m_`, $R^{-1}\\mod{m} :=$ `R_` i definirajmo $U(T) :=$`U(T)`. "
   ]
  },
  {
   "cell_type": "code",
   "execution_count": 35,
   "id": "557bab0a",
   "metadata": {},
   "outputs": [
    {
     "name": "stdout",
     "output_type": "stream",
     "text": [
      "m_ = 681\n",
      "R_ = 190\n"
     ]
    }
   ],
   "source": [
    "for i in range(0,R):\n",
    "    if i * m % R == -1 + R:\n",
    "        m_ = i\n",
    "        break\n",
    "        \n",
    "for i in range(0,m):\n",
    "    if R * i % m == 1 :\n",
    "        R_ = i\n",
    "        break\n",
    "        \n",
    "def U(T):\n",
    "    return T * m_ % R\n",
    "        \n",
    "print(\"m_ =\", m_)\n",
    "print(\"R_ =\",R_)"
   ]
  },
  {
   "cell_type": "code",
   "execution_count": 36,
   "id": "5db67c2c",
   "metadata": {},
   "outputs": [
    {
     "name": "stdout",
     "output_type": "stream",
     "text": [
      "2116\n"
     ]
    }
   ],
   "source": [
    "T = 2001\n",
    "while(True):\n",
    "    if (T + U(T) * m) / R - (T * R_ % m) == m :\n",
    "        break\n",
    "    T += 1\n",
    "print(T)"
   ]
  },
  {
   "cell_type": "markdown",
   "id": "0a8a380a",
   "metadata": {},
   "source": [
    "Dakle najmanji traženi broj je 2116."
   ]
  },
  {
   "cell_type": "markdown",
   "id": "387f5fea",
   "metadata": {},
   "source": [
    "## Zadatak 2.\n",
    "Prošireni Euklidov algoritam:"
   ]
  },
  {
   "cell_type": "code",
   "execution_count": 60,
   "id": "bff25a34",
   "metadata": {},
   "outputs": [],
   "source": [
    "def EGCD(g,w):\n",
    "    \n",
    "    # osiguravamo g > w\n",
    "    if(g < w):\n",
    "        print(\"g > w !\")\n",
    "        \n",
    "    # inicijalizacija    \n",
    "    x, y, u, v = 1, 0, 0, 1\n",
    "    \n",
    "    # petlja\n",
    "    while w > 0:\n",
    "        q = g // w\n",
    "        x, y, g, u, v, w = u, v, w, x - q*u, y - q*v, g - q*w\n",
    "        \n",
    "    return x, y, g"
   ]
  },
  {
   "cell_type": "markdown",
   "id": "424fd53b",
   "metadata": {},
   "source": [
    "7, 11, 13 su relativno prosti u parovima, jer su prosti, pa možemo koristiti *Kineski teorem o ostatcima*."
   ]
  },
  {
   "cell_type": "code",
   "execution_count": 46,
   "id": "a67e1cb9",
   "metadata": {},
   "outputs": [
    {
     "data": {
      "text/plain": [
       "[143.0, 91.0, 77.0]"
      ]
     },
     "execution_count": 46,
     "metadata": {},
     "output_type": "execute_result"
    }
   ],
   "source": [
    "ms = [7, 11, 13]\n",
    "xs = [4, 1, 0]\n",
    "M = ms[0] * ms[1] * ms[2]\n",
    "Ms = [M/ms[i] for i in range(0,3)]\n",
    "Ms"
   ]
  },
  {
   "cell_type": "markdown",
   "id": "321eb01b",
   "metadata": {},
   "source": [
    "Algoritam za pronalaženje $a_i$ takvih da $a_i\\cdot M_i \\equiv 1 (\\mod{m_i})$. Koristimo prvu povratnu vrijednost iz `EGCD`."
   ]
  },
  {
   "cell_type": "code",
   "execution_count": 62,
   "id": "1fb0b57f",
   "metadata": {},
   "outputs": [
    {
     "data": {
      "text/plain": [
       "-780.0"
      ]
     },
     "execution_count": 62,
     "metadata": {},
     "output_type": "execute_result"
    }
   ],
   "source": [
    "x = sum([EGCD(Ms[i],ms[i])[0]*Ms[i]*xs[i] for i in range(0,len(xs))])\n",
    "x"
   ]
  },
  {
   "cell_type": "code",
   "execution_count": 65,
   "id": "bdf265db",
   "metadata": {},
   "outputs": [
    {
     "data": {
      "text/plain": [
       "1222.0"
      ]
     },
     "execution_count": 65,
     "metadata": {},
     "output_type": "execute_result"
    }
   ],
   "source": [
    "x += M\n",
    "x"
   ]
  },
  {
   "cell_type": "markdown",
   "id": "d87f4468",
   "metadata": {},
   "source": [
    "Provjera rezultata."
   ]
  },
  {
   "cell_type": "code",
   "execution_count": 69,
   "id": "66bc8e49",
   "metadata": {},
   "outputs": [
    {
     "data": {
      "text/plain": [
       "(4.0, 1.0, 0.0)"
      ]
     },
     "execution_count": 69,
     "metadata": {},
     "output_type": "execute_result"
    }
   ],
   "source": [
    "(x % 7, x % 11, x % 13)"
   ]
  },
  {
   "cell_type": "markdown",
   "id": "61434dab",
   "metadata": {},
   "source": [
    "Dakle, traženi broj je 1222."
   ]
  },
  {
   "cell_type": "markdown",
   "id": "13df6ab6",
   "metadata": {},
   "source": [
    "## Zadatak 3."
   ]
  },
  {
   "cell_type": "markdown",
   "id": "464d0dbc",
   "metadata": {},
   "source": [
    "Budući da će u ovom zadatku za sve brojeve $d$ koje promatramo vrijediti\n",
    "$$\\sqrt{d} = \\alpha = \\alpha_0 = \\frac{s_0 + \\sqrt{d}}{t_0}$$ slijedi da $s_0 = 0, t_0 = 1$"
   ]
  },
  {
   "cell_type": "code",
   "execution_count": 70,
   "id": "4483e233",
   "metadata": {},
   "outputs": [],
   "source": [
    "import numpy as np"
   ]
  },
  {
   "cell_type": "code",
   "execution_count": 1,
   "id": "6a3a9106",
   "metadata": {},
   "outputs": [],
   "source": [
    "def VR(d, length):\n",
    "\n",
    "    a = list()\n",
    "    s = list()\n",
    "    t = list()\n",
    "    a.append( np.floor(np.sqrt(d)) )\n",
    "    s.append(0)\n",
    "    t.append(1)\n",
    "\n",
    "    for i in range(1,length):\n",
    "        if t[i-1] == 0 : return -1\n",
    "        s.append( a[i-1] * t[i-1] - s[i-1] )\n",
    "        t.append( (d - s[i]**2) / t[i-1] )\n",
    "        if t[i] == 0: return -1\n",
    "        alpha = (s[i] + np.sqrt(d)) / t[i]\n",
    "        a.append( np.floor(alpha) )\n",
    "    \n",
    "    return a"
   ]
  },
  {
   "cell_type": "markdown",
   "id": "812b3e6f",
   "metadata": {},
   "source": [
    "Pišem funkciju `provjeri` koja vraća istinu ako dani broj zadovoljava uvjet zadatka."
   ]
  },
  {
   "cell_type": "code",
   "execution_count": 318,
   "id": "51bd726c",
   "metadata": {},
   "outputs": [],
   "source": [
    "# provjerava je li dana lista palindrom\n",
    "def palindrom(komad):\n",
    "    for i in range(0, len(komad)//2):\n",
    "        if komad[i] != komad[-1-i]:\n",
    "            return False\n",
    "    return True\n",
    "\n",
    "# provjerava nalazi li se u danoj listi niz s periodom\n",
    "# duljine \"duljina\"\n",
    "def period(komad, duljina):\n",
    "    # izlazim ako su svi isti\n",
    "    prvi = komad[0]\n",
    "    isti = True\n",
    "    for x in komad:\n",
    "        if x != prvi:\n",
    "            isti = False\n",
    "            break\n",
    "    if isti: return False\n",
    "    \n",
    "    # provjeravam postoji li period duljine \"duljina\"\n",
    "    for i in range(0,duljina):\n",
    "        if komad[i] != komad[duljina+i]:\n",
    "            return False\n",
    "    return True\n",
    "\n",
    "def provjeri(razvoj, r):\n",
    "    # prvi uvjet je da je palindrom i daima period duljine r\n",
    "    if palindrom(razvoj[1:r]) and period(razvoj[1:], r):\n",
    "        # izlazim ako postoji period manje duljine od r\n",
    "        for k in range(2,r):\n",
    "            if period(razvoj[1:], k):\n",
    "                return False\n",
    "        return True\n",
    "    return False"
   ]
  },
  {
   "cell_type": "markdown",
   "id": "ba5c9ade",
   "metadata": {},
   "source": [
    "Računamo kandidate do 1000."
   ]
  },
  {
   "cell_type": "code",
   "execution_count": 321,
   "id": "eb08ec88",
   "metadata": {},
   "outputs": [
    {
     "data": {
      "text/plain": [
       "[379, 436, 649, 772, 849, 946, 981]"
      ]
     },
     "execution_count": 321,
     "metadata": {},
     "output_type": "execute_result"
    }
   ],
   "source": [
    "kandidati = list()\n",
    "for d in range(2,1000):\n",
    "    razvoj = VR(d,61)\n",
    "    if razvoj != -1:\n",
    "        if provjeri(razvoj,30):\n",
    "            kandidati.append(d)\n",
    "        \n",
    "kandidati"
   ]
  },
  {
   "cell_type": "markdown",
   "id": "e0a125f6",
   "metadata": {},
   "source": [
    "Provjeravam vizualno za broj 379."
   ]
  },
  {
   "cell_type": "code",
   "execution_count": 317,
   "id": "de2064e3",
   "metadata": {},
   "outputs": [
    {
     "data": {
      "text/plain": [
       "array([19.,  2.,  7.,  3.,  2.,  2.,  6., 12.,  1.,  4.,  1.,  1.,  1.,\n",
       "        3.,  4., 19.,  4.,  3.,  1.,  1.,  1.,  4.,  1., 12.,  6.,  2.,\n",
       "        2.,  3.,  7.,  2., 38.,  2.,  7.,  3.,  2.,  2.,  6., 12.,  1.,\n",
       "        4.,  1.,  1.,  1.,  3.,  4., 19.,  4.,  3.,  1.,  1.,  1.,  4.,\n",
       "        1., 12.,  6.,  2.,  2.,  3.,  7.,  2., 38.])"
      ]
     },
     "execution_count": 317,
     "metadata": {},
     "output_type": "execute_result"
    }
   ],
   "source": [
    "np.array(VR(379,61))"
   ]
  },
  {
   "cell_type": "markdown",
   "id": "945969cb",
   "metadata": {},
   "source": [
    "Konačno, najmanji takav je 379."
   ]
  }
 ],
 "metadata": {
  "kernelspec": {
   "display_name": "Python 3 (ipykernel)",
   "language": "python",
   "name": "python3"
  },
  "language_info": {
   "codemirror_mode": {
    "name": "ipython",
    "version": 3
   },
   "file_extension": ".py",
   "mimetype": "text/x-python",
   "name": "python",
   "nbconvert_exporter": "python",
   "pygments_lexer": "ipython3",
   "version": "3.9.16"
  }
 },
 "nbformat": 4,
 "nbformat_minor": 5
}
