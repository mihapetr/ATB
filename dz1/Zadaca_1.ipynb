{
 "cells": [
  {
   "cell_type": "markdown",
   "id": "83854687",
   "metadata": {},
   "source": [
    "<h1><center>Algoritmi u teoriji brojeva</center></h1>\n",
    "<h1><center>Zadaća 1</center></h1>\n",
    "<h3><center>Mihael Petrinjak</center></h3>"
   ]
  },
  {
   "cell_type": "markdown",
   "id": "8cca4055",
   "metadata": {},
   "source": [
    "## Zadatak 1.\n",
    "Funkcija $f(n) = ln^{24} n$ je *blagog rasta*, a $g(n) = n^5$ je *polinomnog*. Znači da postoji $N \\in \\mathbb{N}$ nakon kojeg je $|f(n)| < |g(n)|$.\n"
   ]
  },
  {
   "cell_type": "code",
   "execution_count": 167,
   "id": "32f61189",
   "metadata": {},
   "outputs": [],
   "source": [
    "import numpy as np\n",
    "import matplotlib.pyplot as pl"
   ]
  },
  {
   "cell_type": "markdown",
   "id": "624da06f",
   "metadata": {},
   "source": [
    "Evaluiram funkciju $h(n) = f(n) - g(n)$ u nekim točkama segmenta $[1,500 000]$. Zadnji broj za koji je $h>0$ je traženi broj."
   ]
  },
  {
   "cell_type": "code",
   "execution_count": 168,
   "id": "f0fcd643",
   "metadata": {},
   "outputs": [],
   "source": [
    "def h(n) :\n",
    "    return np.log(n)**24 - n**5\n",
    "\n",
    "evaluacija = np.array([[n, h(n)] for n in range(1,500_000,10_000)])"
   ]
  },
  {
   "cell_type": "code",
   "execution_count": 169,
   "id": "026b4057",
   "metadata": {},
   "outputs": [
    {
     "data": {
      "image/png": "[encoded data removed]",
      "text/plain": [
       "<Figure size 432x288 with 1 Axes>"
      ]
     },
     "metadata": {
      "needs_background": "light"
     },
     "output_type": "display_data"
    }
   ],
   "source": [
    "pl.scatter(evaluacija[:,0], evaluacija[:,1])\n",
    "_ = pl.title(\"Slika 1.1. Široki pregled\")"
   ]
  },
  {
   "cell_type": "markdown",
   "id": "cd4c1c16",
   "metadata": {},
   "source": [
    "Izgleda kao da $h$ nakon $500000$ više ne raste."
   ]
  },
  {
   "cell_type": "code",
   "execution_count": 170,
   "id": "dee60fcf",
   "metadata": {},
   "outputs": [
    {
     "name": "stdout",
     "output_type": "stream",
     "text": [
      "[(1.0, False), (10001.0, True), (20001.0, True), (30001.0, True), (40001.0, True), (50001.0, True), (60001.0, True), (70001.0, True), (80001.0, True), (90001.0, True), (100001.0, True), (110001.0, True), (120001.0, True), (130001.0, True), (140001.0, True), (150001.0, False), (160001.0, False), (170001.0, False), (180001.0, False), (190001.0, False), (200001.0, False), (210001.0, False), (220001.0, False), (230001.0, False), (240001.0, False), (250001.0, False), (260001.0, False), (270001.0, False), (280001.0, False), (290001.0, False)]\n"
     ]
    }
   ],
   "source": [
    "mask = evaluacija[:,1] > np.array((0,))\n",
    "x = evaluacija[:,0]\n",
    "mask_pairs = [(x[i],mask[i]) for i in range(len(x))]\n",
    "print(mask_pairs[0:30])"
   ]
  },
  {
   "cell_type": "markdown",
   "id": "ff400b02",
   "metadata": {},
   "source": [
    "Varijabla ```mask``` je boolean vektor koji za točke u kojima evaluiramo kaže je li funkcija veća od nule."
   ]
  },
  {
   "cell_type": "code",
   "execution_count": 171,
   "id": "b61762e6",
   "metadata": {},
   "outputs": [
    {
     "name": "stdout",
     "output_type": "stream",
     "text": [
      "[140001. 150001.]\n"
     ]
    }
   ],
   "source": [
    "indeks = 0\n",
    "for i in range(len(evaluacija)) :\n",
    "    if mask[i] == True :\n",
    "        indeks = i\n",
    "print(x[indeks:indeks+2])"
   ]
  },
  {
   "cell_type": "markdown",
   "id": "abededd9",
   "metadata": {},
   "source": [
    "Inicijalnom analizom sam potražio najdesniji interval čija desna ograda je $500000$ unutar kojeg $h(n)$ mijenja predznak. Slutim da je traženi broj u $[140 001,150 001]$."
   ]
  },
  {
   "cell_type": "code",
   "execution_count": 172,
   "id": "425f93aa",
   "metadata": {},
   "outputs": [
    {
     "data": {
      "image/png": "[encoded data removed]",
      "text/plain": [
       "<Figure size 432x288 with 1 Axes>"
      ]
     },
     "metadata": {
      "needs_background": "light"
     },
     "output_type": "display_data"
    }
   ],
   "source": [
    "subdivizija = np.linspace(140_000,150000)\n",
    "vrijednosti = np.array([h(n) for n in subdivizija])\n",
    "pl.plot(subdivizija, vrijednosti)\n",
    "_ = pl.title(\"Slika 1.2. Interval od interesa\")"
   ]
  },
  {
   "cell_type": "markdown",
   "id": "e6f171f7",
   "metadata": {},
   "source": [
    "Implementiram algoritam koji će binarnim pretraživanjem pronaći najdesniju točku u kojoj neprekidno proširenje od $h(x), x\\in \\mathbb{R}$ poprima vrijednost $0$."
   ]
  },
  {
   "cell_type": "code",
   "execution_count": 173,
   "id": "a03c1c06",
   "metadata": {},
   "outputs": [],
   "source": [
    "def nula(h, l, d, greska) :\n",
    "    if d - l < greska : \n",
    "        return (l,d)\n",
    "    m = ( l + d ) / 2\n",
    "    # pretpostavka je da je padajuća funkcija\n",
    "    if h(m) > 0 :\n",
    "        return nula(h, m, d, greska)\n",
    "    else :\n",
    "        return nula(h, l, m, greska)"
   ]
  },
  {
   "cell_type": "code",
   "execution_count": 174,
   "id": "2bfff7b9",
   "metadata": {},
   "outputs": [
    {
     "name": "stdout",
     "output_type": "stream",
     "text": [
      "Traženi interval je: (144183.12890625, 144184.349609375)\n",
      "Zaokružene granice na cijele brojeve: [144183. 144184.]\n",
      "Vrijednost funkcije f u lijevom i densom rubu:\n",
      " 7.565952214343426e+20 , -5.3112003486034585e+20\n"
     ]
    }
   ],
   "source": [
    "rez = nula(h, 140001, 150001, 2)\n",
    "cijeli = np.floor(rez)\n",
    "\n",
    "print(\"Traženi interval je:\", rez)\n",
    "print(\"Zaokružene granice na cijele brojeve:\", cijeli)\n",
    "print(\"Vrijednost funkcije f u lijevom i densom rubu:\\n\", h(cijeli[0]), \",\" , h(cijeli[1]))"
   ]
  },
  {
   "cell_type": "markdown",
   "id": "457cda8f",
   "metadata": {},
   "source": [
    "Dakle, najveći prirodni broj za koji vrijedi zadani uvjet je $144 183$."
   ]
  },
  {
   "cell_type": "markdown",
   "id": "10400851",
   "metadata": {},
   "source": [
    "## Zadatak 2.\n",
    "Isto kao u prvom zadatku definiram funkciju $g(n) = e^{\\sqrt{\\ln n}} - \\sqrt[7]{n}$ i promatram pozitivnost."
   ]
  },
  {
   "cell_type": "code",
   "execution_count": 175,
   "id": "996364be",
   "metadata": {},
   "outputs": [],
   "source": [
    "def g(n) :\n",
    "    return np.e**np.sqrt( np.log(n) ) - np.power(n,1/7)"
   ]
  },
  {
   "cell_type": "markdown",
   "id": "7fb52614",
   "metadata": {},
   "source": [
    "Evaluiram funkciju na velikoj domeni kako bih dobio osjećaj za njeno ponašanje."
   ]
  },
  {
   "cell_type": "code",
   "execution_count": 176,
   "id": "1d73a9b4",
   "metadata": {},
   "outputs": [
    {
     "name": "stdout",
     "output_type": "stream",
     "text": [
      "Druga točka subdivizije je 2.0408163265306123e+20 .\n"
     ]
    },
    {
     "data": {
      "image/png": "[encoded data removed]",
      "text/plain": [
       "<Figure size 432x288 with 1 Axes>"
      ]
     },
     "metadata": {
      "needs_background": "light"
     },
     "output_type": "display_data"
    }
   ],
   "source": [
    "domena = np.linspace(1,10**22)\n",
    "g_vr = np.array([g(n) for n in domena])\n",
    "pl.scatter(domena, g_vr)\n",
    "_ = pl.title(\"Slika 2.1. Pregled na [0, 10^22]\")\n",
    "print(\"Druga točka subdivizije je\", domena[1], \".\")"
   ]
  },
  {
   "cell_type": "markdown",
   "id": "247bdf28",
   "metadata": {},
   "source": [
    "Čini se da je funkcija $g$ padajuća nakon druge točke subdivizije."
   ]
  },
  {
   "cell_type": "code",
   "execution_count": 177,
   "id": "624609c5",
   "metadata": {},
   "outputs": [
    {
     "name": "stdout",
     "output_type": "stream",
     "text": [
      "U 10^21 g je pozitivna:  47.04237411637689 ,\n",
      "a u 10^22 je negativna:  -156.29990177307627\n"
     ]
    }
   ],
   "source": [
    "y1 = g(np.power(10,21,dtype=np.longdouble))\n",
    "y2 = g(np.power(10,22,dtype=np.longdouble))\n",
    "\n",
    "print(\"U 10^21 g je pozitivna: \", y1, \",\")\n",
    "print(\"a u 10^22 je negativna: \", y2)"
   ]
  },
  {
   "cell_type": "markdown",
   "id": "9324f5a5",
   "metadata": {},
   "source": [
    "Dakle, najveći prirodni broj koji zadovoljava uvjet zadatka je između $10^{21}$ i $10^{22}$ i ima 22 znamenke."
   ]
  },
  {
   "cell_type": "markdown",
   "id": "a34fbc91",
   "metadata": {},
   "source": [
    "## Zadatak 3."
   ]
  },
  {
   "cell_type": "markdown",
   "id": "f646be1b",
   "metadata": {},
   "source": [
    "Definiram funkciju koja predstavlja algoritam \"*Ima li prirodan broj $N$ netrivijalan faktor $M$ takav da je $2 \\leq M \\leq k$?*\"."
   ]
  },
  {
   "cell_type": "code",
   "execution_count": 178,
   "id": "9dd73730",
   "metadata": {},
   "outputs": [],
   "source": [
    "def L2(N, k) :\n",
    "    for i in range(2, k+1) :\n",
    "        if N % i == 0 : return True\n",
    "    return False"
   ]
  },
  {
   "cell_type": "markdown",
   "id": "fc16e9ec",
   "metadata": {},
   "source": [
    "Sljedeći algoritam vraća listu `L` sa znamenkama traženog faktora zapisanog u binarnoj bazi. `L[j]` je znamenka uz $2^j$."
   ]
  },
  {
   "cell_type": "code",
   "execution_count": 179,
   "id": "25354b22",
   "metadata": {},
   "outputs": [],
   "source": [
    "def L1(N) :\n",
    "    \n",
    "    # pronađi prvi k i broj bitova n\n",
    "    n = 0\n",
    "    while 2**(n+1) < N : n += 1\n",
    "    k = 2**n - 1\n",
    "    n += 1\n",
    "    \n",
    "    # provjera prostosti\n",
    "    if not L2(N, k) :\n",
    "        print(f\"Broj {N} je prost.\")\n",
    "        return\n",
    "    \n",
    "    # inicijalizacija binarnog zapisa traženog broja\n",
    "    # zapis[j] je znamenka uz 2^(j)\n",
    "    zapis = (n-1)*[0]\n",
    "    zapis[n-2] = 1\n",
    "    j = n-2\n",
    "    \n",
    "    # glavna petlja\n",
    "    while j >= 0 :\n",
    "        \n",
    "        k = sum([zapis[i]*(2**i) for i in range(len(zapis))]) - 1\n",
    "        out = L2(N, k)\n",
    "        \n",
    "        if out : zapis[j] = 0\n",
    "        else : zapis[j] = 1\n",
    "            \n",
    "        out = \"DA\" if out else \"NE\"\n",
    "        print(f\"k je {k}. L2 vraća {out}. Binarni zapis je {zapis}.\")\n",
    "            \n",
    "        if j > 0 : zapis[j-1] = 1\n",
    "        j -= 1\n",
    "        \n",
    "    return zapis"
   ]
  },
  {
   "cell_type": "markdown",
   "id": "126071dc",
   "metadata": {},
   "source": [
    "Provjeravam ispravnost algoritma na primjeru iz skripte."
   ]
  },
  {
   "cell_type": "code",
   "execution_count": 180,
   "id": "138ddef2",
   "metadata": {},
   "outputs": [
    {
     "name": "stdout",
     "output_type": "stream",
     "text": [
      "k je 31. L2 vraća DA. Binarni zapis je [0, 0, 0, 0, 0, 0].\n",
      "k je 15. L2 vraća DA. Binarni zapis je [0, 0, 0, 0, 0, 0].\n",
      "k je 7. L2 vraća DA. Binarni zapis je [0, 0, 0, 0, 0, 0].\n",
      "k je 3. L2 vraća NE. Binarni zapis je [0, 0, 1, 0, 0, 0].\n",
      "k je 5. L2 vraća NE. Binarni zapis je [0, 1, 1, 0, 0, 0].\n",
      "k je 6. L2 vraća NE. Binarni zapis je [1, 1, 1, 0, 0, 0].\n",
      "Traženi faktor od 91 je 7.\n"
     ]
    }
   ],
   "source": [
    "zapis_faktora = L1(91)\n",
    "\n",
    "faktor = sum([zapis_faktora[i]*(2**i) for i in range(len(zapis_faktora))])\n",
    "print(f\"Traženi faktor od 91 je {faktor}.\")"
   ]
  },
  {
   "cell_type": "markdown",
   "id": "e251e49a",
   "metadata": {},
   "source": [
    "Rješenje zadatka."
   ]
  },
  {
   "cell_type": "code",
   "execution_count": 181,
   "id": "255e903c",
   "metadata": {},
   "outputs": [
    {
     "name": "stdout",
     "output_type": "stream",
     "text": [
      "k je 127. L2 vraća DA. Binarni zapis je [0, 0, 0, 0, 0, 0, 0, 0].\n",
      "k je 63. L2 vraća DA. Binarni zapis je [0, 0, 0, 0, 0, 0, 0, 0].\n",
      "k je 31. L2 vraća DA. Binarni zapis je [0, 0, 0, 0, 0, 0, 0, 0].\n",
      "k je 15. L2 vraća DA. Binarni zapis je [0, 0, 0, 0, 0, 0, 0, 0].\n",
      "k je 7. L2 vraća NE. Binarni zapis je [0, 0, 0, 1, 0, 0, 0, 0].\n",
      "k je 11. L2 vraća NE. Binarni zapis je [0, 0, 1, 1, 0, 0, 0, 0].\n",
      "k je 13. L2 vraća DA. Binarni zapis je [0, 0, 1, 1, 0, 0, 0, 0].\n",
      "k je 12. L2 vraća NE. Binarni zapis je [1, 0, 1, 1, 0, 0, 0, 0].\n",
      "Traženi faktor od 299 je 13.\n"
     ]
    }
   ],
   "source": [
    "zapis_faktora = L1(299)\n",
    "\n",
    "faktor = sum([zapis_faktora[i]*(2**i) for i in range(len(zapis_faktora))])\n",
    "print(f\"Traženi faktor od 299 je {faktor}.\")"
   ]
  }
 ],
 "metadata": {
  "kernelspec": {
   "display_name": "Python 3 (ipykernel)",
   "language": "python",
   "name": "python3"
  },
  "language_info": {
   "codemirror_mode": {
    "name": "ipython",
    "version": 3
   },
   "file_extension": ".py",
   "mimetype": "text/x-python",
   "name": "python",
   "nbconvert_exporter": "python",
   "pygments_lexer": "ipython3",
   "version": "3.9.12"
  }
 },
 "nbformat": 4,
 "nbformat_minor": 5
}
