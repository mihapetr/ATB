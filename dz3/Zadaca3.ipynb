{
 "cells": [
  {
   "cell_type": "markdown",
   "id": "75abe47a",
   "metadata": {},
   "source": [
    "<h1><center>Algoritmi u teoriji brojeva</center></h1>\n",
    "<h1><center>Zadaća 3</center></h1>\n",
    "<h3><center>Mihael Petrinjak</center></h3>"
   ]
  },
  {
   "cell_type": "markdown",
   "id": "be004279",
   "metadata": {},
   "source": [
    "## Zadatak 1."
   ]
  },
  {
   "cell_type": "markdown",
   "id": "1ca79976",
   "metadata": {},
   "source": [
    "Pišem algoritam za računanje jacobijeva simbola $(\\frac{a}{m})$."
   ]
  },
  {
   "cell_type": "code",
   "execution_count": 1,
   "id": "7e028c7d",
   "metadata": {},
   "outputs": [],
   "source": [
    "def Jacobi(a, m) :\n",
    "    a = a % m\n",
    "    t = 1\n",
    "    while a != 0 :\n",
    "        while a % 2 == 0 :\n",
    "            a = a / 2\n",
    "            if m % 8 == 3 or m % 8 == 5 : t = -t\n",
    "        a, m = m, a\n",
    "        if a % 4 == 3 and m % 4 == 3 : t = -t\n",
    "        a = a % m\n",
    "    if m == 1 : return t\n",
    "    return 0"
   ]
  },
  {
   "cell_type": "code",
   "execution_count": 2,
   "id": "7e840ee7",
   "metadata": {},
   "outputs": [
    {
     "name": "stdout",
     "output_type": "stream",
     "text": [
      "1 : 1\n",
      "2 : 1\n",
      "3 : 1\n",
      "4 : 1\n",
      "5 : -1\n",
      "6 : 1\n",
      "7 : -1\n",
      "8 : 1\n",
      "9 : 1\n"
     ]
    }
   ],
   "source": [
    "for i in range(1,10):\n",
    "    print(f\"{i} : {Jacobi(i,1753)}\")"
   ]
  },
  {
   "cell_type": "markdown",
   "id": "60474f7c",
   "metadata": {},
   "source": [
    "Najmanji kvadratni neostatak modulo 1753 je 5 jer je Jacobijev simbol $(\\frac{5}{1753})$ jednak -1."
   ]
  },
  {
   "cell_type": "markdown",
   "id": "e5b2cc13",
   "metadata": {},
   "source": [
    "## Zadatak 2."
   ]
  },
  {
   "cell_type": "markdown",
   "id": "fc76e1d0",
   "metadata": {},
   "source": [
    "Pišem algoritam za računanje kvadratnih korijena modulo p."
   ]
  },
  {
   "cell_type": "code",
   "execution_count": 4,
   "id": "e7e2dbb7",
   "metadata": {},
   "outputs": [],
   "source": [
    "def korijeni(a, p) :\n",
    "    for x in range(1,p) :\n",
    "        if pow(x,2,p) == a : # funkcija pow potencira modularno\n",
    "            yield x"
   ]
  },
  {
   "cell_type": "code",
   "execution_count": 5,
   "id": "f3823714",
   "metadata": {},
   "outputs": [
    {
     "data": {
      "text/plain": [
       "{321, 1432}"
      ]
     },
     "execution_count": 5,
     "metadata": {},
     "output_type": "execute_result"
    }
   ],
   "source": [
    "{x for x in korijeni(1367,1753)}"
   ]
  },
  {
   "cell_type": "markdown",
   "id": "0a2848d4",
   "metadata": {},
   "source": [
    "## Zadatak 3."
   ]
  },
  {
   "cell_type": "markdown",
   "id": "bf155b2f",
   "metadata": {},
   "source": [
    "Iz $q < 2^{1/2}Q^2 < 6\\cdot 10^8 $ slijedi da možemo uzeti $Q = 17000$."
   ]
  },
  {
   "cell_type": "markdown",
   "id": "8b3c2ee8",
   "metadata": {},
   "source": [
    "Provodim račun u [browser verziji PARI/GP](https://pari.math.u-bordeaux.fr/gp.html)."
   ]
  },
  {
   "cell_type": "markdown",
   "id": "3abfb22b",
   "metadata": {},
   "source": [
    "```\n",
    "? \n",
    "a = sqrt(2)\n",
    "b = sqrt(38)\n",
    "Q = 17000\n",
    "C = Q^3\n",
    "B = [1, 0, 0; -round(C*a), C, 0; -round(C*b), 0, C]\n",
    "R = qflll(B)\n",
    "print(\"q = \", R[1,1], \", p1 = \", R[2,1], \", p2 = \" , R[3,1])\n",
    "q = 72048778, p1 = 101892359, p2 = 444138496\n",
    "```"
   ]
  },
  {
   "cell_type": "markdown",
   "id": "890d2973",
   "metadata": {},
   "source": [
    "Provjera uvjeta:"
   ]
  },
  {
   "cell_type": "code",
   "execution_count": 84,
   "id": "2c609064",
   "metadata": {},
   "outputs": [],
   "source": [
    "a = np.sqrt(2)\n",
    "b = np.sqrt(38)\n",
    "q = 72048778\n",
    "p1 = 101892359\n",
    "p2 = 444138496"
   ]
  },
  {
   "cell_type": "code",
   "execution_count": 86,
   "id": "852523dc",
   "metadata": {},
   "outputs": [
    {
     "data": {
      "text/plain": [
       "True"
      ]
     },
     "execution_count": 86,
     "metadata": {},
     "output_type": "execute_result"
    }
   ],
   "source": [
    "10**5 < q and q < 6*10**8"
   ]
  },
  {
   "cell_type": "code",
   "execution_count": 85,
   "id": "b1d1b8e7",
   "metadata": {},
   "outputs": [
    {
     "data": {
      "text/plain": [
       "True"
      ]
     },
     "execution_count": 85,
     "metadata": {},
     "output_type": "execute_result"
    }
   ],
   "source": [
    "max(abs(a-p1/q),abs(b-p2/q)) < q**(-3/2)"
   ]
  },
  {
   "cell_type": "markdown",
   "id": "743a7e23",
   "metadata": {},
   "source": [
    "Dakle, $q = 72\\ 048\\ 778, p_1 = 101\\ 892\\ 359, p_2 = 444\\ 138\\ 496$ su traženi brojevi."
   ]
  }
 ],
 "metadata": {
  "kernelspec": {
   "display_name": "Python 3 (ipykernel)",
   "language": "python",
   "name": "python3"
  },
  "language_info": {
   "codemirror_mode": {
    "name": "ipython",
    "version": 3
   },
   "file_extension": ".py",
   "mimetype": "text/x-python",
   "name": "python",
   "nbconvert_exporter": "python",
   "pygments_lexer": "ipython3",
   "version": "3.9.16"
  }
 },
 "nbformat": 4,
 "nbformat_minor": 5
}
